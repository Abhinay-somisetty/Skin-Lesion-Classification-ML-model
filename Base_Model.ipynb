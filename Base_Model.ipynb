{
 "cells": [
  {
   "cell_type": "code",
   "execution_count": 1,
   "metadata": {
    "colab": {
     "base_uri": "https://localhost:8080/",
     "height": 35
    },
    "colab_type": "code",
    "id": "HeBr3U9dzBBg",
    "outputId": "e9658d5f-c4d8-478c-ddcf-d687edddd7e5"
   },
   "outputs": [
    {
     "name": "stderr",
     "output_type": "stream",
     "text": [
      "Using TensorFlow backend.\n",
      "C:\\Anaconda3\\lib\\site-packages\\tensorflow\\python\\framework\\dtypes.py:523: FutureWarning: Passing (type, 1) or '1type' as a synonym of type is deprecated; in a future version of numpy, it will be understood as (type, (1,)) / '(1,)type'.\n",
      "  _np_qint8 = np.dtype([(\"qint8\", np.int8, 1)])\n",
      "C:\\Anaconda3\\lib\\site-packages\\tensorflow\\python\\framework\\dtypes.py:524: FutureWarning: Passing (type, 1) or '1type' as a synonym of type is deprecated; in a future version of numpy, it will be understood as (type, (1,)) / '(1,)type'.\n",
      "  _np_quint8 = np.dtype([(\"quint8\", np.uint8, 1)])\n",
      "C:\\Anaconda3\\lib\\site-packages\\tensorflow\\python\\framework\\dtypes.py:525: FutureWarning: Passing (type, 1) or '1type' as a synonym of type is deprecated; in a future version of numpy, it will be understood as (type, (1,)) / '(1,)type'.\n",
      "  _np_qint16 = np.dtype([(\"qint16\", np.int16, 1)])\n",
      "C:\\Anaconda3\\lib\\site-packages\\tensorflow\\python\\framework\\dtypes.py:526: FutureWarning: Passing (type, 1) or '1type' as a synonym of type is deprecated; in a future version of numpy, it will be understood as (type, (1,)) / '(1,)type'.\n",
      "  _np_quint16 = np.dtype([(\"quint16\", np.uint16, 1)])\n",
      "C:\\Anaconda3\\lib\\site-packages\\tensorflow\\python\\framework\\dtypes.py:527: FutureWarning: Passing (type, 1) or '1type' as a synonym of type is deprecated; in a future version of numpy, it will be understood as (type, (1,)) / '(1,)type'.\n",
      "  _np_qint32 = np.dtype([(\"qint32\", np.int32, 1)])\n",
      "C:\\Anaconda3\\lib\\site-packages\\tensorflow\\python\\framework\\dtypes.py:532: FutureWarning: Passing (type, 1) or '1type' as a synonym of type is deprecated; in a future version of numpy, it will be understood as (type, (1,)) / '(1,)type'.\n",
      "  np_resource = np.dtype([(\"resource\", np.ubyte, 1)])\n"
     ]
    }
   ],
   "source": [
    "import numpy as np\n",
    "import pandas as pd\n",
    "from sklearn.model_selection import train_test_split\n",
    "from keras.utils.np_utils import to_categorical # convert to one-hot-encoding\n",
    "\n",
    "from tensorflow.keras.preprocessing.image import ImageDataGenerator\n",
    "from tensorflow.keras import layers\n",
    "from tensorflow.keras import Model\n",
    "from tensorflow.keras.optimizers import Adam\n",
    "from tensorflow.keras.callbacks import ReduceLROnPlateau\n",
    "import warnings\n",
    "warnings.filterwarnings('ignore')\n",
    "%matplotlib inline\n",
    "\n",
    "import matplotlib.pyplot as plt"
   ]
  },
  {
   "cell_type": "markdown",
   "metadata": {
    "colab_type": "text",
    "id": "M1BzjwNzUB1T"
   },
   "source": [
    "## Load In the Data"
   ]
  },
  {
   "cell_type": "code",
   "execution_count": 2,
   "metadata": {
    "colab": {},
    "colab_type": "code",
    "id": "F3zhcgJD4lhk"
   },
   "outputs": [],
   "source": [
    "skin_df = pd.read_csv('C:/Users/somiseta/isic2018/hmnist_64_64_RBG.csv')"
   ]
  },
  {
   "cell_type": "code",
   "execution_count": 3,
   "metadata": {
    "colab": {
     "base_uri": "https://localhost:8080/",
     "height": 247
    },
    "colab_type": "code",
    "id": "W-viELZ74uN2",
    "outputId": "44f1763e-1b74-4434-e99c-51e295052387"
   },
   "outputs": [
    {
     "data": {
      "text/html": [
       "<div>\n",
       "<style>\n",
       "    .dataframe thead tr:only-child th {\n",
       "        text-align: right;\n",
       "    }\n",
       "\n",
       "    .dataframe thead th {\n",
       "        text-align: left;\n",
       "    }\n",
       "\n",
       "    .dataframe tbody tr th {\n",
       "        vertical-align: top;\n",
       "    }\n",
       "</style>\n",
       "<table border=\"1\" class=\"dataframe\">\n",
       "  <thead>\n",
       "    <tr style=\"text-align: right;\">\n",
       "      <th></th>\n",
       "      <th>0</th>\n",
       "      <th>1</th>\n",
       "      <th>2</th>\n",
       "      <th>3</th>\n",
       "      <th>4</th>\n",
       "      <th>5</th>\n",
       "      <th>6</th>\n",
       "      <th>7</th>\n",
       "      <th>8</th>\n",
       "      <th>9</th>\n",
       "      <th>...</th>\n",
       "      <th>12279</th>\n",
       "      <th>12280</th>\n",
       "      <th>12281</th>\n",
       "      <th>12282</th>\n",
       "      <th>12283</th>\n",
       "      <th>12284</th>\n",
       "      <th>12285</th>\n",
       "      <th>12286</th>\n",
       "      <th>12287</th>\n",
       "      <th>label</th>\n",
       "    </tr>\n",
       "  </thead>\n",
       "  <tbody>\n",
       "    <tr>\n",
       "      <th>0</th>\n",
       "      <td>191</td>\n",
       "      <td>152</td>\n",
       "      <td>194</td>\n",
       "      <td>191</td>\n",
       "      <td>153</td>\n",
       "      <td>195</td>\n",
       "      <td>192</td>\n",
       "      <td>149</td>\n",
       "      <td>192</td>\n",
       "      <td>194</td>\n",
       "      <td>...</td>\n",
       "      <td>185</td>\n",
       "      <td>154</td>\n",
       "      <td>180</td>\n",
       "      <td>186</td>\n",
       "      <td>156</td>\n",
       "      <td>184</td>\n",
       "      <td>182</td>\n",
       "      <td>152</td>\n",
       "      <td>173</td>\n",
       "      <td>2</td>\n",
       "    </tr>\n",
       "    <tr>\n",
       "      <th>1</th>\n",
       "      <td>24</td>\n",
       "      <td>13</td>\n",
       "      <td>23</td>\n",
       "      <td>24</td>\n",
       "      <td>14</td>\n",
       "      <td>28</td>\n",
       "      <td>37</td>\n",
       "      <td>24</td>\n",
       "      <td>46</td>\n",
       "      <td>61</td>\n",
       "      <td>...</td>\n",
       "      <td>26</td>\n",
       "      <td>15</td>\n",
       "      <td>29</td>\n",
       "      <td>27</td>\n",
       "      <td>15</td>\n",
       "      <td>28</td>\n",
       "      <td>24</td>\n",
       "      <td>13</td>\n",
       "      <td>25</td>\n",
       "      <td>2</td>\n",
       "    </tr>\n",
       "    <tr>\n",
       "      <th>2</th>\n",
       "      <td>185</td>\n",
       "      <td>129</td>\n",
       "      <td>140</td>\n",
       "      <td>192</td>\n",
       "      <td>136</td>\n",
       "      <td>151</td>\n",
       "      <td>198</td>\n",
       "      <td>142</td>\n",
       "      <td>156</td>\n",
       "      <td>198</td>\n",
       "      <td>...</td>\n",
       "      <td>152</td>\n",
       "      <td>120</td>\n",
       "      <td>138</td>\n",
       "      <td>144</td>\n",
       "      <td>113</td>\n",
       "      <td>123</td>\n",
       "      <td>115</td>\n",
       "      <td>81</td>\n",
       "      <td>84</td>\n",
       "      <td>2</td>\n",
       "    </tr>\n",
       "    <tr>\n",
       "      <th>3</th>\n",
       "      <td>24</td>\n",
       "      <td>11</td>\n",
       "      <td>19</td>\n",
       "      <td>36</td>\n",
       "      <td>19</td>\n",
       "      <td>30</td>\n",
       "      <td>64</td>\n",
       "      <td>38</td>\n",
       "      <td>50</td>\n",
       "      <td>91</td>\n",
       "      <td>...</td>\n",
       "      <td>27</td>\n",
       "      <td>13</td>\n",
       "      <td>16</td>\n",
       "      <td>25</td>\n",
       "      <td>12</td>\n",
       "      <td>16</td>\n",
       "      <td>24</td>\n",
       "      <td>9</td>\n",
       "      <td>14</td>\n",
       "      <td>2</td>\n",
       "    </tr>\n",
       "    <tr>\n",
       "      <th>4</th>\n",
       "      <td>138</td>\n",
       "      <td>94</td>\n",
       "      <td>117</td>\n",
       "      <td>158</td>\n",
       "      <td>113</td>\n",
       "      <td>138</td>\n",
       "      <td>178</td>\n",
       "      <td>133</td>\n",
       "      <td>161</td>\n",
       "      <td>191</td>\n",
       "      <td>...</td>\n",
       "      <td>140</td>\n",
       "      <td>106</td>\n",
       "      <td>118</td>\n",
       "      <td>108</td>\n",
       "      <td>77</td>\n",
       "      <td>92</td>\n",
       "      <td>67</td>\n",
       "      <td>40</td>\n",
       "      <td>55</td>\n",
       "      <td>2</td>\n",
       "    </tr>\n",
       "  </tbody>\n",
       "</table>\n",
       "<p>5 rows × 12289 columns</p>\n",
       "</div>"
      ],
      "text/plain": [
       "     0    1    2    3    4    5    6    7    8    9  ...    12279  12280  \\\n",
       "0  191  152  194  191  153  195  192  149  192  194  ...      185    154   \n",
       "1   24   13   23   24   14   28   37   24   46   61  ...       26     15   \n",
       "2  185  129  140  192  136  151  198  142  156  198  ...      152    120   \n",
       "3   24   11   19   36   19   30   64   38   50   91  ...       27     13   \n",
       "4  138   94  117  158  113  138  178  133  161  191  ...      140    106   \n",
       "\n",
       "   12281  12282  12283  12284  12285  12286  12287  label  \n",
       "0    180    186    156    184    182    152    173      2  \n",
       "1     29     27     15     28     24     13     25      2  \n",
       "2    138    144    113    123    115     81     84      2  \n",
       "3     16     25     12     16     24      9     14      2  \n",
       "4    118    108     77     92     67     40     55      2  \n",
       "\n",
       "[5 rows x 12289 columns]"
      ]
     },
     "execution_count": 3,
     "metadata": {},
     "output_type": "execute_result"
    }
   ],
   "source": [
    "skin_df.head()"
   ]
  },
  {
   "cell_type": "code",
   "execution_count": 4,
   "metadata": {
    "colab": {},
    "colab_type": "code",
    "id": "C1psqaTj45AM"
   },
   "outputs": [],
   "source": [
    "X = skin_df.drop(\"label\", axis=1).as_matrix()  # converting to numpy array \n",
    "label = skin_df[\"label\"].values "
   ]
  },
  {
   "cell_type": "code",
   "execution_count": 5,
   "metadata": {
    "colab": {
     "base_uri": "https://localhost:8080/",
     "height": 35
    },
    "colab_type": "code",
    "id": "1e2D7SCz5LQh",
    "outputId": "cb30d359-a2b0-4e0b-c501-6a3288c3ffb5"
   },
   "outputs": [
    {
     "data": {
      "text/plain": [
       "((10015, 12288), (10015,))"
      ]
     },
     "execution_count": 5,
     "metadata": {},
     "output_type": "execute_result"
    }
   ],
   "source": [
    "X.shape, label.shape"
   ]
  },
  {
   "cell_type": "markdown",
   "metadata": {
    "colab_type": "text",
    "id": "E3iU_vSjUIpn"
   },
   "source": [
    "## Scaling and Split Data into Train, Validation and Test set"
   ]
  },
  {
   "cell_type": "code",
   "execution_count": 6,
   "metadata": {
    "colab": {},
    "colab_type": "code",
    "id": "q25NL3-X5jry"
   },
   "outputs": [],
   "source": [
    "X_mean = np.mean(X)\n",
    "X_std = np.std(X)\n",
    "\n",
    "X = (X - X_mean)/X_std    #Scaling the data"
   ]
  },
  {
   "cell_type": "code",
   "execution_count": 7,
   "metadata": {
    "colab": {},
    "colab_type": "code",
    "id": "oGH8wMmy6Mew"
   },
   "outputs": [],
   "source": [
    "X_train_orig, X_test, y_train_orig, y_test = train_test_split(X, label, test_size=0.1,random_state=0)"
   ]
  },
  {
   "cell_type": "code",
   "execution_count": 8,
   "metadata": {
    "colab": {
     "base_uri": "https://localhost:8080/",
     "height": 35
    },
    "colab_type": "code",
    "id": "hU0BQ6c6B1tu",
    "outputId": "2a213eec-e04a-4bef-fd97-27321013c5a7"
   },
   "outputs": [
    {
     "data": {
      "text/plain": [
       "((9013, 12288), (1002, 12288), (9013,), (1002,))"
      ]
     },
     "execution_count": 8,
     "metadata": {},
     "output_type": "execute_result"
    }
   ],
   "source": [
    "X_train_orig.shape, X_test.shape, y_train_orig.shape, y_test.shape"
   ]
  },
  {
   "cell_type": "code",
   "execution_count": 9,
   "metadata": {
    "colab": {},
    "colab_type": "code",
    "id": "_WzFxSy1ByyY"
   },
   "outputs": [],
   "source": [
    "X_train, X_val, y_train, y_val = train_test_split(X_train_orig, y_train_orig, test_size=0.2, random_state=1)"
   ]
  },
  {
   "cell_type": "code",
   "execution_count": 10,
   "metadata": {
    "colab": {
     "base_uri": "https://localhost:8080/",
     "height": 35
    },
    "colab_type": "code",
    "id": "HiK1KmsMCF5B",
    "outputId": "731610d1-06ec-4df9-c9b5-867bf7a33138"
   },
   "outputs": [
    {
     "data": {
      "text/plain": [
       "((7210, 12288), (1803, 12288), (7210,), (1803,))"
      ]
     },
     "execution_count": 10,
     "metadata": {},
     "output_type": "execute_result"
    }
   ],
   "source": [
    "X_train.shape, X_val.shape, y_train.shape, y_val.shape"
   ]
  },
  {
   "cell_type": "markdown",
   "metadata": {
    "colab_type": "text",
    "id": "4Zl7b9mFURFJ"
   },
   "source": [
    "## Reshape the Data to Input in CNN"
   ]
  },
  {
   "cell_type": "code",
   "execution_count": 11,
   "metadata": {
    "colab": {},
    "colab_type": "code",
    "id": "mdbb6U1W6mx2"
   },
   "outputs": [],
   "source": [
    "X_train = X_train.reshape(X_train.shape[0], *(64, 64, 3))\n",
    "X_val = X_val.reshape(X_val.shape[0], *(64, 64, 3))\n",
    "X_test = X_test.reshape(X_test.shape[0], *(64, 64, 3))"
   ]
  },
  {
   "cell_type": "code",
   "execution_count": 12,
   "metadata": {
    "colab": {
     "base_uri": "https://localhost:8080/",
     "height": 35
    },
    "colab_type": "code",
    "id": "odlh2eEz629K",
    "outputId": "98c81273-d8af-43da-8aa6-eca193a59dbd"
   },
   "outputs": [
    {
     "data": {
      "text/plain": [
       "((7210, 64, 64, 3), (1803, 64, 64, 3), (1002, 64, 64, 3))"
      ]
     },
     "execution_count": 12,
     "metadata": {},
     "output_type": "execute_result"
    }
   ],
   "source": [
    "X_train.shape, X_val.shape, X_test.shape"
   ]
  },
  {
   "cell_type": "code",
   "execution_count": 13,
   "metadata": {
    "colab": {
     "base_uri": "https://localhost:8080/",
     "height": 35
    },
    "colab_type": "code",
    "id": "ToBfm6FCE82c",
    "outputId": "4289e6c7-c7e4-4562-dee2-ecaa11b6815c"
   },
   "outputs": [
    {
     "data": {
      "text/plain": [
       "(7210,)"
      ]
     },
     "execution_count": 13,
     "metadata": {},
     "output_type": "execute_result"
    }
   ],
   "source": [
    "y_train.shape"
   ]
  },
  {
   "cell_type": "code",
   "execution_count": 14,
   "metadata": {
    "colab": {},
    "colab_type": "code",
    "id": "bv1nE9AkBMXJ"
   },
   "outputs": [],
   "source": [
    "y_train = to_categorical(y_train)\n",
    "y_val = to_categorical(y_val)\n",
    "y_test = to_categorical(y_test)"
   ]
  },
  {
   "cell_type": "code",
   "execution_count": 15,
   "metadata": {
    "colab": {
     "base_uri": "https://localhost:8080/",
     "height": 35
    },
    "colab_type": "code",
    "id": "UuRfmdeYCsW5",
    "outputId": "ae8001b5-53a6-4ee9-f3c8-498150246a55"
   },
   "outputs": [
    {
     "data": {
      "text/plain": [
       "((7210, 7), (1803, 7), (1002, 7))"
      ]
     },
     "execution_count": 15,
     "metadata": {},
     "output_type": "execute_result"
    }
   ],
   "source": [
    "y_train.shape, y_val.shape, y_test.shape"
   ]
  },
  {
   "cell_type": "markdown",
   "metadata": {
    "colab_type": "text",
    "id": "5vVaAuWtUVJU"
   },
   "source": [
    "## CNN Model"
   ]
  },
  {
   "cell_type": "code",
   "execution_count": 16,
   "metadata": {
    "colab": {},
    "colab_type": "code",
    "id": "9i2prFW67mwJ"
   },
   "outputs": [],
   "source": [
    "# Our input feature map is 64x64x3: 64x64 for the image pixels, and 3 for\n",
    "# the three color channels: R, G, and B\n",
    "img_input = layers.Input(shape=(64, 64, 3))"
   ]
  },
  {
   "cell_type": "code",
   "execution_count": 17,
   "metadata": {},
   "outputs": [],
   "source": [
    "# Extraction of 16 filters\n",
    "# max-pooling is done with a 2x2 window\n",
    "x = layers.Conv2D(16, 3, activation='relu', padding='same')(img_input)\n",
    "x = layers.MaxPooling2D(2)(x)"
   ]
  },
  {
   "cell_type": "code",
   "execution_count": 18,
   "metadata": {},
   "outputs": [],
   "source": [
    "# Extraction of 32 filters\n",
    "# Convolution is followed by max-pooling layer with a 2x2 window\n",
    "x = layers.Conv2D(32, 3, activation='relu', padding='same')(x)\n",
    "x = layers.MaxPooling2D(2)(x)"
   ]
  },
  {
   "cell_type": "code",
   "execution_count": 19,
   "metadata": {},
   "outputs": [],
   "source": [
    "# Extraction of 64 filters \n",
    "# Convolution is followed by max-pooling layer with a 2x2 window\n",
    "x = layers.Convolution2D(64, 3, activation='relu', padding='same')(x)\n",
    "x = layers.MaxPooling2D(2)(x)"
   ]
  },
  {
   "cell_type": "code",
   "execution_count": 20,
   "metadata": {},
   "outputs": [],
   "source": [
    "# Feature map extraction to a 1-dim tensor\n",
    "x = layers.Flatten()(x)\n",
    "\n",
    "# Contians fully connected layer with activation function as RELU which consists of 512 hidden units\n",
    "x = layers.Dense(512, activation='relu')(x)\n",
    "\n",
    "# Add a dropout rate of 0.5 \n",
    "x = layers.Dropout(0.5)(x)\n",
    "\n",
    "# Create output layer with a single node and sigmoid activation\n",
    "output = layers.Dense(7, activation='softmax')(x)\n",
    "\n",
    "# Configure and compile the model\n",
    "model = Model(img_input, output)\n",
    "\n",
    "#Using Adam Optimizer\n",
    "optimizer = Adam(lr=0.001, beta_1=0.9, beta_2=0.999, epsilon=None, decay=0.0, amsgrad=False)\n",
    "\n",
    "model.compile(loss='categorical_crossentropy', optimizer=optimizer, metrics=['accuracy'])"
   ]
  },
  {
   "cell_type": "code",
   "execution_count": 21,
   "metadata": {
    "colab": {
     "base_uri": "https://localhost:8080/",
     "height": 518
    },
    "colab_type": "code",
    "id": "JXh46jmDA9c6",
    "outputId": "290fa9f9-c12d-4179-e6b5-9126af32f189"
   },
   "outputs": [
    {
     "name": "stdout",
     "output_type": "stream",
     "text": [
      "_________________________________________________________________\n",
      "Layer (type)                 Output Shape              Param #   \n",
      "=================================================================\n",
      "input_1 (InputLayer)         (None, 64, 64, 3)         0         \n",
      "_________________________________________________________________\n",
      "conv2d (Conv2D)              (None, 64, 64, 16)        448       \n",
      "_________________________________________________________________\n",
      "max_pooling2d (MaxPooling2D) (None, 32, 32, 16)        0         \n",
      "_________________________________________________________________\n",
      "conv2d_1 (Conv2D)            (None, 32, 32, 32)        4640      \n",
      "_________________________________________________________________\n",
      "max_pooling2d_1 (MaxPooling2 (None, 16, 16, 32)        0         \n",
      "_________________________________________________________________\n",
      "conv2d_2 (Conv2D)            (None, 16, 16, 64)        18496     \n",
      "_________________________________________________________________\n",
      "max_pooling2d_2 (MaxPooling2 (None, 8, 8, 64)          0         \n",
      "_________________________________________________________________\n",
      "flatten (Flatten)            (None, 4096)              0         \n",
      "_________________________________________________________________\n",
      "dense (Dense)                (None, 512)               2097664   \n",
      "_________________________________________________________________\n",
      "dropout (Dropout)            (None, 512)               0         \n",
      "_________________________________________________________________\n",
      "dense_1 (Dense)              (None, 7)                 3591      \n",
      "=================================================================\n",
      "Total params: 2,124,839\n",
      "Trainable params: 2,124,839\n",
      "Non-trainable params: 0\n",
      "_________________________________________________________________\n"
     ]
    }
   ],
   "source": [
    "model.summary()"
   ]
  },
  {
   "cell_type": "code",
   "execution_count": 22,
   "metadata": {
    "colab": {},
    "colab_type": "code",
    "id": "_ITW1SFVFuHk"
   },
   "outputs": [],
   "source": [
    "#Generate batches of tensor image data with real-time data augmentation\n",
    "train_datagen = ImageDataGenerator(rotation_range=20, width_shift_range=0.2, height_shift_range=0.2,\n",
    "                             shear_range=0.2, zoom_range=0.15, horizontal_flip=True, fill_mode='nearest')\n",
    "\n",
    "train_datagen.fit(X_train)\n",
    "\n",
    "val_datagen = ImageDataGenerator()\n",
    "val_datagen.fit(X_val)"
   ]
  },
  {
   "cell_type": "code",
   "execution_count": 23,
   "metadata": {
    "colab": {},
    "colab_type": "code",
    "id": "-FvlOkvw8GJ0"
   },
   "outputs": [],
   "source": [
    "#Reduce learning rate when a metric has stopped improving.\n",
    "\n",
    "#Models often benefit from reducing the learning rate by a factor of 2-10 once learning stagnates. \n",
    "#This callback monitors a quantity and if no improvement is seen for a 'patience' number of epochs, the learning rate is reduced.\n",
    "learning_rate_reduction = ReduceLROnPlateau(monitor='val_acc', patience=3, verbose=1, factor=0.5, min_lr=0.00001)"
   ]
  },
  {
   "cell_type": "code",
   "execution_count": 24,
   "metadata": {
    "colab": {
     "base_uri": "https://localhost:8080/",
     "height": 1212
    },
    "colab_type": "code",
    "id": "epgliUU-_EWz",
    "outputId": "52c0a22e-7b64-40d5-ef4f-6ee75685e2af"
   },
   "outputs": [
    {
     "name": "stdout",
     "output_type": "stream",
     "text": [
      "Epoch 1/40\n",
      "225/225 [==============================] - 13s 58ms/step - loss: 0.9713 - acc: 0.6679 - val_loss: 0.8841 - val_acc: 0.6822\n",
      "Epoch 2/40\n",
      "225/225 [==============================] - 8s 34ms/step - loss: 0.8473 - acc: 0.6919 - val_loss: 0.8683 - val_acc: 0.6850\n",
      "Epoch 3/40\n",
      "225/225 [==============================] - 8s 34ms/step - loss: 0.8059 - acc: 0.7075 - val_loss: 0.7755 - val_acc: 0.7277\n",
      "Epoch 4/40\n",
      "225/225 [==============================] - 7s 33ms/step - loss: 0.7651 - acc: 0.7189 - val_loss: 0.7396 - val_acc: 0.7266\n",
      "Epoch 5/40\n",
      "225/225 [==============================] - 8s 34ms/step - loss: 0.7473 - acc: 0.7195 - val_loss: 0.7518 - val_acc: 0.7388\n",
      "Epoch 6/40\n",
      "225/225 [==============================] - 8s 34ms/step - loss: 0.7235 - acc: 0.7340 - val_loss: 0.7085 - val_acc: 0.7476\n",
      "Epoch 7/40\n",
      "225/225 [==============================] - 8s 34ms/step - loss: 0.6985 - acc: 0.7363 - val_loss: 0.6878 - val_acc: 0.7432\n",
      "Epoch 8/40\n",
      "225/225 [==============================] - 7s 33ms/step - loss: 0.6875 - acc: 0.7461 - val_loss: 0.7005 - val_acc: 0.7338\n",
      "Epoch 9/40\n",
      "225/225 [==============================] - 7s 33ms/step - loss: 0.6817 - acc: 0.7459 - val_loss: 0.6891 - val_acc: 0.7537\n",
      "Epoch 10/40\n",
      "225/225 [==============================] - 8s 34ms/step - loss: 0.6616 - acc: 0.7572 - val_loss: 0.7401 - val_acc: 0.7282\n",
      "Epoch 11/40\n",
      "225/225 [==============================] - 8s 34ms/step - loss: 0.6633 - acc: 0.7548 - val_loss: 0.6488 - val_acc: 0.7648\n",
      "Epoch 12/40\n",
      "225/225 [==============================] - 7s 33ms/step - loss: 0.6524 - acc: 0.7598 - val_loss: 0.6893 - val_acc: 0.7549\n",
      "Epoch 13/40\n",
      "225/225 [==============================] - 8s 34ms/step - loss: 0.6402 - acc: 0.7623 - val_loss: 0.6445 - val_acc: 0.7543\n",
      "Epoch 14/40\n",
      "223/225 [============================>.] - ETA: 0s - loss: 0.6284 - acc: 0.7639\n",
      "Epoch 00014: ReduceLROnPlateau reducing learning rate to 0.0005000000237487257.\n",
      "225/225 [==============================] - 8s 34ms/step - loss: 0.6285 - acc: 0.7637 - val_loss: 0.6906 - val_acc: 0.7377\n",
      "Epoch 15/40\n",
      "225/225 [==============================] - 8s 34ms/step - loss: 0.6028 - acc: 0.7734 - val_loss: 0.6317 - val_acc: 0.7698\n",
      "Epoch 16/40\n",
      "225/225 [==============================] - 7s 33ms/step - loss: 0.5929 - acc: 0.7766 - val_loss: 0.6545 - val_acc: 0.7598\n",
      "Epoch 17/40\n",
      "225/225 [==============================] - 7s 33ms/step - loss: 0.5764 - acc: 0.7818 - val_loss: 0.6335 - val_acc: 0.7610\n",
      "Epoch 18/40\n",
      "223/225 [============================>.] - ETA: 0s - loss: 0.5700 - acc: 0.7839\n",
      "Epoch 00018: ReduceLROnPlateau reducing learning rate to 0.0002500000118743628.\n",
      "225/225 [==============================] - 8s 34ms/step - loss: 0.5707 - acc: 0.7833 - val_loss: 0.6364 - val_acc: 0.7687\n",
      "Epoch 19/40\n",
      "225/225 [==============================] - 8s 34ms/step - loss: 0.5550 - acc: 0.7874 - val_loss: 0.6458 - val_acc: 0.7593\n",
      "Epoch 20/40\n",
      "225/225 [==============================] - 7s 33ms/step - loss: 0.5567 - acc: 0.7858 - val_loss: 0.6288 - val_acc: 0.7726\n",
      "Epoch 21/40\n",
      "225/225 [==============================] - 7s 33ms/step - loss: 0.5442 - acc: 0.7937 - val_loss: 0.6295 - val_acc: 0.7659\n",
      "Epoch 22/40\n",
      "225/225 [==============================] - 7s 33ms/step - loss: 0.5298 - acc: 0.8011 - val_loss: 0.6459 - val_acc: 0.7626\n",
      "Epoch 23/40\n",
      "224/225 [============================>.] - ETA: 0s - loss: 0.5439 - acc: 0.7955\n",
      "Epoch 00023: ReduceLROnPlateau reducing learning rate to 0.0001250000059371814.\n",
      "225/225 [==============================] - 8s 34ms/step - loss: 0.5427 - acc: 0.7962 - val_loss: 0.6265 - val_acc: 0.7626\n",
      "Epoch 24/40\n",
      "225/225 [==============================] - 8s 34ms/step - loss: 0.5303 - acc: 0.8008 - val_loss: 0.6279 - val_acc: 0.7682\n",
      "Epoch 25/40\n",
      "225/225 [==============================] - 8s 34ms/step - loss: 0.5252 - acc: 0.8064 - val_loss: 0.6272 - val_acc: 0.7715\n",
      "Epoch 26/40\n",
      "224/225 [============================>.] - ETA: 0s - loss: 0.5114 - acc: 0.8054\n",
      "Epoch 00026: ReduceLROnPlateau reducing learning rate to 6.25000029685907e-05.\n",
      "225/225 [==============================] - 8s 34ms/step - loss: 0.5110 - acc: 0.8054 - val_loss: 0.6144 - val_acc: 0.7693\n",
      "Epoch 27/40\n",
      "225/225 [==============================] - 8s 34ms/step - loss: 0.5173 - acc: 0.8039 - val_loss: 0.6252 - val_acc: 0.7709\n",
      "Epoch 28/40\n",
      "225/225 [==============================] - 7s 33ms/step - loss: 0.5117 - acc: 0.8084 - val_loss: 0.6170 - val_acc: 0.7693\n",
      "Epoch 29/40\n",
      "224/225 [============================>.] - ETA: 0s - loss: 0.5056 - acc: 0.8086\n",
      "Epoch 00029: ReduceLROnPlateau reducing learning rate to 3.125000148429535e-05.\n",
      "225/225 [==============================] - 8s 34ms/step - loss: 0.5061 - acc: 0.8084 - val_loss: 0.6154 - val_acc: 0.7693\n",
      "Epoch 30/40\n",
      "225/225 [==============================] - 7s 33ms/step - loss: 0.5025 - acc: 0.8108 - val_loss: 0.6169 - val_acc: 0.7698\n",
      "Epoch 31/40\n",
      "225/225 [==============================] - 8s 34ms/step - loss: 0.5085 - acc: 0.8056 - val_loss: 0.6252 - val_acc: 0.7637\n",
      "Epoch 32/40\n",
      "224/225 [============================>.] - ETA: 0s - loss: 0.5080 - acc: 0.8090\n",
      "Epoch 00032: ReduceLROnPlateau reducing learning rate to 1.5625000742147677e-05.\n",
      "225/225 [==============================] - 7s 33ms/step - loss: 0.5073 - acc: 0.8091 - val_loss: 0.6165 - val_acc: 0.7693\n",
      "Epoch 33/40\n",
      "225/225 [==============================] - 7s 33ms/step - loss: 0.5005 - acc: 0.8105 - val_loss: 0.6151 - val_acc: 0.7709\n",
      "Epoch 34/40\n",
      "225/225 [==============================] - 7s 33ms/step - loss: 0.4943 - acc: 0.8105 - val_loss: 0.6183 - val_acc: 0.7698\n",
      "Epoch 35/40\n",
      "224/225 [============================>.] - ETA: 0s - loss: 0.4992 - acc: 0.8068\n",
      "Epoch 00035: ReduceLROnPlateau reducing learning rate to 1e-05.\n",
      "225/225 [==============================] - 8s 34ms/step - loss: 0.4996 - acc: 0.8067 - val_loss: 0.6177 - val_acc: 0.7687\n",
      "Epoch 36/40\n",
      "225/225 [==============================] - 7s 33ms/step - loss: 0.5017 - acc: 0.8057 - val_loss: 0.6154 - val_acc: 0.7687\n",
      "Epoch 37/40\n",
      "225/225 [==============================] - 8s 34ms/step - loss: 0.4930 - acc: 0.8130 - val_loss: 0.6160 - val_acc: 0.7687\n",
      "Epoch 38/40\n",
      "225/225 [==============================] - 8s 34ms/step - loss: 0.4969 - acc: 0.8099 - val_loss: 0.6170 - val_acc: 0.7693\n",
      "Epoch 39/40\n",
      "225/225 [==============================] - 8s 34ms/step - loss: 0.5017 - acc: 0.8140 - val_loss: 0.6194 - val_acc: 0.7687\n",
      "Epoch 40/40\n",
      "225/225 [==============================] - 8s 34ms/step - loss: 0.5012 - acc: 0.8061 - val_loss: 0.6168 - val_acc: 0.7682\n"
     ]
    }
   ],
   "source": [
    "batch_size = 32\n",
    "epochs = 40\n",
    "history = model.fit_generator(train_datagen.flow(X_train,y_train, batch_size=batch_size),\n",
    "                              epochs = epochs, validation_data = val_datagen.flow(X_val, y_val),\n",
    "                              verbose = 1, steps_per_epoch=(X_train.shape[0] // batch_size),\n",
    "                              callbacks=[learning_rate_reduction])"
   ]
  },
  {
   "cell_type": "code",
   "execution_count": null,
   "metadata": {},
   "outputs": [],
   "source": [
    "batch_size = 32\n",
    "epochs = 40\n",
    "history_test = model.fit_generator(train_datagen.flow(X_train,y_train, batch_size=batch_size),\n",
    "                              epochs = epochs, validation_data = val_datagen.flow(X_test, y_test),\n",
    "                              verbose = 1, steps_per_epoch=(X_train.shape[0] // batch_size),\n",
    "                              callbacks=[learning_rate_reduction])"
   ]
  },
  {
   "cell_type": "code",
   "execution_count": 25,
   "metadata": {
    "colab": {
     "base_uri": "https://localhost:8080/",
     "height": 86
    },
    "colab_type": "code",
    "id": "pzmhcKchK3fQ",
    "outputId": "255f9bf8-d123-435d-809f-219c47922e5f"
   },
   "outputs": [
    {
     "name": "stdout",
     "output_type": "stream",
     "text": [
      "1002/1002 [==============================] - 0s 198us/step\n",
      "1803/1803 [==============================] - 0s 196us/step\n",
      "Validation: accuracy = 0.768164  ;  loss_v = 0.616828\n",
      "Test: accuracy = 0.760479  ;  loss = 0.664191\n"
     ]
    }
   ],
   "source": [
    "loss_test, acc_test = model.evaluate(X_test, y_test, verbose=1)\n",
    "loss_val, acc_val = model.evaluate(X_val, y_val, verbose=1)\n",
    "print(\"Validation: accuracy = %f  ;  loss_v = %f\" % (acc_val, loss_val))\n",
    "print(\"Test: accuracy = %f  ;  loss = %f\" % (acc_test, loss_test))\n",
    "model.save(\"base_model.h5\")"
   ]
  },
  {
   "cell_type": "code",
   "execution_count": 33,
   "metadata": {
    "colab": {
     "base_uri": "https://localhost:8080/",
     "height": 560
    },
    "colab_type": "code",
    "id": "z-XsupKP_orF",
    "outputId": "69099e17-bae9-4886-c0e9-50a0c20be04a"
   },
   "outputs": [
    {
     "data": {
      "text/plain": [
       "<Figure size 432x288 with 0 Axes>"
      ]
     },
     "execution_count": 33,
     "metadata": {},
     "output_type": "execute_result"
    },
    {
     "data": {
      "image/png": "[encoded data removed]",
      "text/plain": [
       "<Figure size 432x288 with 1 Axes>"
      ]
     },
     "metadata": {
      "needs_background": "light"
     },
     "output_type": "display_data"
    },
    {
     "data": {
      "text/plain": [
       "<Figure size 432x288 with 0 Axes>"
      ]
     },
     "metadata": {},
     "output_type": "display_data"
    }
   ],
   "source": [
    "# Retrieve a list of accuracy results on training and test data\n",
    "# sets for each training epoch\n",
    "acc = history.history['acc']\n",
    "val_acc = history.history['val_acc']\n",
    "\n",
    "\n",
    "# Retrieve a list of list results on training and test data\n",
    "\n",
    "# Get number of epochs\n",
    "epochs = range(len(acc))\n",
    "\n",
    "# Plot training and validation accuracy per epoch\n",
    "plt.plot(epochs, acc)\n",
    "plt.plot(epochs, val_acc)\n",
    "plt.title('Training and validation accuracy')\n",
    "\n",
    "plt.figure()\n"
   ]
  },
  {
   "cell_type": "code",
   "execution_count": 34,
   "metadata": {},
   "outputs": [
    {
     "data": {
      "text/plain": [
       "Text(0.5, 1.0, 'Training and validation loss')"
      ]
     },
     "execution_count": 34,
     "metadata": {},
     "output_type": "execute_result"
    },
    {
     "data": {
      "image/png": "[encoded data removed]",
      "text/plain": [
       "<Figure size 432x288 with 1 Axes>"
      ]
     },
     "metadata": {
      "needs_background": "light"
     },
     "output_type": "display_data"
    }
   ],
   "source": [
    "\n",
    "# sets for each training epoch\n",
    "loss = history.history['loss']\n",
    "val_loss = history.history['val_loss']\n",
    "\n",
    "\n",
    "\n",
    "\n",
    "# Plot training and validation loss per epoch\n",
    "plt.plot(epochs, loss)\n",
    "plt.plot(epochs, val_loss)\n",
    "plt.title('Training and validation loss')\n"
   ]
  },
  {
   "cell_type": "code",
   "execution_count": null,
   "metadata": {},
   "outputs": [],
   "source": []
  }
 ],
 "metadata": {
  "accelerator": "GPU",
  "colab": {
   "name": "Baseline_CNN.ipynb",
   "provenance": [],
   "version": "0.3.2"
  },
  "kernelspec": {
   "display_name": "Python 3",
   "language": "python",
   "name": "python3"
  },
  "language_info": {
   "codemirror_mode": {
    "name": "ipython",
    "version": 3
   },
   "file_extension": ".py",
   "mimetype": "text/x-python",
   "name": "python",
   "nbconvert_exporter": "python",
   "pygments_lexer": "ipython3",
   "version": "3.6.3"
  }
 },
 "nbformat": 4,
 "nbformat_minor": 1
}
